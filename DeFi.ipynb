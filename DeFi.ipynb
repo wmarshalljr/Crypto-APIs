{
 "cells": [
  {
   "cell_type": "code",
   "execution_count": null,
   "metadata": {},
   "outputs": [],
   "source": [
    "#API calls for DeFi Llama, CoinAPI, CoinLib, CryptoCompare and Coinbase, CMC "
   ]
  },
  {
   "cell_type": "code",
   "execution_count": 1,
   "metadata": {},
   "outputs": [],
   "source": [
    "#DeFiLlama API calls - TVL and protocol data"
   ]
  },
  {
   "cell_type": "code",
   "execution_count": null,
   "metadata": {},
   "outputs": [],
   "source": [
    "pip install DeFiLlama"
   ]
  },
  {
   "cell_type": "code",
   "execution_count": 1,
   "metadata": {},
   "outputs": [],
   "source": [
    "import requests\n",
    "import json\n",
    "import pandas as pd\n",
    "import datetime as dt"
   ]
  },
  {
   "cell_type": "code",
   "execution_count": 20,
   "metadata": {},
   "outputs": [
    {
     "name": "stdout",
     "output_type": "stream",
     "text": [
      "200\n"
     ]
    }
   ],
   "source": [
    "# get all protocols\n",
    "response = requests.get(\"https://api.llama.fi/protocols\")\n",
    "print(response.status_code)\n",
    "output = response.json()\n",
    "df = pd.DataFrame(output)\n",
    "\n",
    "df.to_csv('request_protocols_list.csv', index=False) "
   ]
  },
  {
   "cell_type": "code",
   "execution_count": 2,
   "metadata": {},
   "outputs": [
    {
     "name": "stdout",
     "output_type": "stream",
     "text": [
      "200\n"
     ]
    }
   ],
   "source": [
    "# historical TVL (total)\n",
    "response = requests.get(\"https://api.llama.fi/charts\")\n",
    "print(response.status_code)\n",
    "output = response.json()\n",
    "df = pd.DataFrame(output)\n",
    "df.reset_index(inplace=True)\n",
    "df['date'] = pd.to_datetime(df['date'],unit='s')\n",
    "df.to_csv('DeFi_TVLs.csv', index=False) "
   ]
  },
  {
   "cell_type": "code",
   "execution_count": 23,
   "metadata": {},
   "outputs": [
    {
     "name": "stdout",
     "output_type": "stream",
     "text": [
      "200\n"
     ]
    }
   ],
   "source": [
    "#TVL by blockchain network\n",
    "response = requests.get(\"https://api.llama.fi/chains\")\n",
    "print(response.status_code)\n",
    "output = response.json()\n",
    "df = pd.DataFrame(output)\n",
    "df.to_csv('TVL_bychain.csv', index=False) "
   ]
  },
  {
   "cell_type": "code",
   "execution_count": null,
   "metadata": {},
   "outputs": [],
   "source": [
    "#Historical TVL by blockchain network (top 8)\n",
    "response = requests.get(\"https://api.llama.fi/charts/%5B%27Ethereum%27%5D\")\n",
    "print(response.status_code)\n",
    "output = response.json()\n",
    "df = pd.DataFrame(output)\n",
    "df.reset_index(inplace=True)\n",
    "df['date'] = pd.to_datetime(df['date'],unit='s')\n",
    "df.to_csv('TVL_by_chain_historical.csv', index=False) "
   ]
  },
  {
   "cell_type": "code",
   "execution_count": 84,
   "metadata": {},
   "outputs": [
    {
     "name": "stdout",
     "output_type": "stream",
     "text": [
      "200\n"
     ]
    }
   ],
   "source": [
    "#Historical TVLs of Bridge Protocols\n",
    "\n",
    "response = requests.get(\"https://api.llama.fi/protocol/wbtc\")\n",
    "print(response.status_code)\n",
    "output = response.json()\n",
    "df = pd.DataFrame.from_dict(output, orient='index')\n",
    "df = df.transpose()\n",
    "pd.DataFrame(df.items(), columns=['date', 'DateValue'])\n",
    "\n",
    "df.to_csv('Bridge_TVLs_2.csv')"
   ]
  },
  {
   "cell_type": "code",
   "execution_count": null,
   "metadata": {},
   "outputs": [],
   "source": [
    "df.keys()\n",
    "df1 = df['chainTvLs']"
   ]
  },
  {
   "cell_type": "code",
   "execution_count": null,
   "metadata": {},
   "outputs": [],
   "source": [
    "obs = [df1, pd.DataFrame(df1['totalLiquidityUSD'].tolist()).iloc[:, :2]]\n",
    "df2 = pd.concat(obs, axis=1).drop('totalLiquidityUSD', axis=1)\n",
    "print(df2)"
   ]
  },
  {
   "cell_type": "code",
   "execution_count": null,
   "metadata": {},
   "outputs": [],
   "source": [
    "#CoinAPI historical OHLCV data"
   ]
  },
  {
   "cell_type": "code",
   "execution_count": 32,
   "metadata": {},
   "outputs": [],
   "source": [
    "import pandas as pd\n",
    "import requests\n",
    "import json\n",
    "import datetime as dt\n",
    "\n",
    "url = 'https://rest.coinapi.io/v1/exchangerate/BTC/EUR/history?period_id=1DAY&time_start=2021-01-01T00:00:00&time_end=2022-01-01T00:00:00&limit=366'\n",
    "headers = {'X-CoinAPI-Key' : '716CD6C5-2256-43A6-AE4F-630B7DC4A3CB'}\n",
    "response = requests.get(url, headers=headers)\n",
    "output = response.json()\n",
    "df = pd.DataFrame(output)\n",
    "df.to_csv('CoinAPI_BTC_EUR.csv', index=False) \n"
   ]
  },
  {
   "cell_type": "code",
   "execution_count": null,
   "metadata": {},
   "outputs": [],
   "source": [
    "#Coinbase API call - fetch trading pair data (OCHLV)"
   ]
  },
  {
   "cell_type": "code",
   "execution_count": 2,
   "metadata": {},
   "outputs": [],
   "source": [
    "import pandas as pd\n",
    "import requests\n",
    "import json\n",
    "\n",
    "def fetch_daily_data(symbol):\n",
    "    pair_split = symbol.split('/')  # symbol must be in format XXX/XXX ie. BTC/EUR\n",
    "    symbol = pair_split[0] + '-' + pair_split[1]\n",
    "    url = f'https://api.pro.coinbase.com/products/{symbol}/candles?granularity=86400'\n",
    "    response = requests.get(url)\n",
    "    if response.status_code == 200:  # check to make sure the response from server is good\n",
    "        data = pd.DataFrame(json.loads(response.text), columns=['unix', 'low', 'high', 'open', 'close', 'volume'])\n",
    "        data['date'] = pd.to_datetime(data['unix'], unit='s')  # convert to a readable date\n",
    "        data['vol_fiat'] = data['volume'] * data['close']      # multiply the coin volume by closing price to approximate fiat volume\n",
    "\n",
    "        # if it fails to pull any data, print an error...otherwise write the file\n",
    "        if data is None:\n",
    "            print(\"Did not return any data from Coinbase for this symbol\")\n",
    "        else:\n",
    "            data.to_csv(f'Coinbase_{pair_split[0] + pair_split[1]}_dailydata.csv', index=False)\n",
    "\n",
    "    else:\n",
    "        print(\"Did not recieve response from Coinbase API\")\n",
    "\n",
    "\n",
    "if __name__ == \"__main__\":\n",
    "    # set which pair you want to retrieve data for\n",
    "    pair = \"USDT/USD\"\n",
    "    fetch_daily_data(symbol=pair)"
   ]
  },
  {
   "cell_type": "code",
   "execution_count": null,
   "metadata": {},
   "outputs": [],
   "source": [
    "#CoinAPI with renamed columns "
   ]
  },
  {
   "cell_type": "code",
   "execution_count": 1,
   "metadata": {},
   "outputs": [],
   "source": [
    "import json\n",
    "import requests\n",
    "import pandas as pd\n",
    "import datetime as dt"
   ]
  },
  {
   "cell_type": "code",
   "execution_count": 3,
   "metadata": {},
   "outputs": [],
   "source": [
    "api_key = \"716CD6C5-2256-43A6-AE4F-630B7DC4A3CB\"\n",
    "\n",
    "url = \"https://rest.coinapi.io/v1/exchangerate/CEL/EUR/history?period_id=3HRS&time_start=2022-01-01T00:00:00&time_end=2022-06-14T00:00:00&limit=5000\"\n",
    "headers = {\"X-CoinAPI-Key\" : api_key}\n",
    "response = requests.get(url, headers = headers)\n",
    "\n",
    "if(response.status_code == 429):\n",
    "    # API response\n",
    "    print(\"Too many requests.\")"
   ]
  },
  {
   "cell_type": "code",
   "execution_count": 4,
   "metadata": {},
   "outputs": [],
   "source": [
    "coin_data  = json.loads(response.text)\n",
    "CEL_EUR = pd.DataFrame(coin_data)"
   ]
  },
  {
   "cell_type": "code",
   "execution_count": 5,
   "metadata": {},
   "outputs": [],
   "source": [
    "CEL_EUR.rename(columns = {\n",
    "    \"time_period_start\": \"Start Time\",\n",
    "    \"time_period_end\": \"End Time\",\n",
    "    \"time_open\": \"Open Time\",\n",
    "    \"time_close\": \"Close Time\",\n",
    "    \"price_open\": \"Price Open\",\n",
    "    \"price_high\": \"Price High\",\n",
    "    \"price_low\": \"Price Low\",\n",
    "    \"price_close\": \"Price Close\",\n",
    "    \"volume_traded\": \"Volume Traded\",\n",
    "    \"trades_count\": \"Trade Count\",\n",
    "}, inplace = True)"
   ]
  },
  {
   "cell_type": "code",
   "execution_count": 6,
   "metadata": {},
   "outputs": [],
   "source": [
    "CEL_EUR.to_csv(\"CEL_EUR.csv\", index = False)"
   ]
  },
  {
   "cell_type": "code",
   "execution_count": null,
   "metadata": {},
   "outputs": [],
   "source": [
    "#CoinLib API (UNDER CONSTRUCTION)"
   ]
  },
  {
   "cell_type": "code",
   "execution_count": null,
   "metadata": {},
   "outputs": [],
   "source": [
    "pip install pycoinlib"
   ]
  },
  {
   "cell_type": "code",
   "execution_count": 2,
   "metadata": {},
   "outputs": [],
   "source": [
    "from pycoinlib import coinlib, GLOBAL, COIN, COINLIST, RANK_ASC"
   ]
  },
  {
   "cell_type": "code",
   "execution_count": 6,
   "metadata": {},
   "outputs": [],
   "source": [
    "import os\n",
    "from urllib.parse import urljoin\n",
    "import requests\n",
    "import json"
   ]
  },
  {
   "cell_type": "code",
   "execution_count": 4,
   "metadata": {},
   "outputs": [],
   "source": [
    "api_key = '1d6d3fc9a5b7e0ef'\n",
    "\n",
    "BASE_URL = \"https://coinlib.io/api/v1/coin?key=1d6d3fc9a5b7e0ef&pref=RUB&symbol=USDT\"\n",
    "COINLIB_API_KEY = os.getenv(\"1d6d3fc9a5b7e0ef\")\n",
    "\n",
    "\n",
    "def api(endpoint, **params):\n",
    "    return requests.get(\n",
    "        urljoin(BASE_URL, endpoint),\n",
    "        params | {\"key\": COINLIB_API_KEY},\n",
    "    ).json()"
   ]
  },
  {
   "cell_type": "code",
   "execution_count": null,
   "metadata": {},
   "outputs": [],
   "source": [
    "# CryptoCompare API"
   ]
  },
  {
   "cell_type": "code",
   "execution_count": 14,
   "metadata": {},
   "outputs": [],
   "source": [
    "import requests\n",
    "import pandas as pd\n",
    "import datetime as dt\n",
    "\n",
    "apiKey = \"f263d10c8806cb1f1c0c9663fd14ae619031b1c7eebd2860dad31429ccf8e4c1\"\n",
    "\n",
    "url = \"https://min-api.cryptocompare.com/data/exchange/histoday?tsym=USD&limit=365\"\n",
    "\n",
    "payload = {\n",
    "    \"api_key\": apiKey,\n",
    "    \"fsym\": \"BTC\",\n",
    "    \"tsym\": \"USD\",\n",
    "    \"limit\": 10\n",
    "}\n",
    "\n",
    "result = requests.get(url, params=payload).json()\n",
    "\n",
    "df = pd.DataFrame(result['Data'])\n",
    "df.reset_index(inplace=True)\n",
    "df['time'] = pd.to_datetime(df['time'],unit='s')\n"
   ]
  },
  {
   "cell_type": "code",
   "execution_count": 15,
   "metadata": {},
   "outputs": [],
   "source": [
    "BTC_USD = df\n",
    "BTC_USD.to_csv('BTC_US.csv', index=False)"
   ]
  },
  {
   "cell_type": "code",
   "execution_count": null,
   "metadata": {},
   "outputs": [],
   "source": [
    "#CryptoCompare API wrapper"
   ]
  },
  {
   "cell_type": "code",
   "execution_count": null,
   "metadata": {},
   "outputs": [],
   "source": [
    "pip install cryptocompare"
   ]
  },
  {
   "cell_type": "code",
   "execution_count": 59,
   "metadata": {},
   "outputs": [],
   "source": [
    "import cryptocompare\n",
    "import requests\n",
    "import time\n",
    "import datetime\n",
    "import typing\n",
    "import os\n",
    "from typing import Union, Optional, List, Dict\n",
    "Timestamp = Union[datetime.datetime, datetime.date, int, float]"
   ]
  },
  {
   "cell_type": "code",
   "execution_count": 60,
   "metadata": {},
   "outputs": [
    {
     "data": {
      "text/plain": [
       "'&api_key=f263d10c8806cb1f1c0c9663fd14ae619031b1c7eebd2860dad31429ccf8e4c1'"
      ]
     },
     "execution_count": 60,
     "metadata": {},
     "output_type": "execute_result"
    }
   ],
   "source": [
    "cryptocompare.cryptocompare._set_api_key_parameter('f263d10c8806cb1f1c0c9663fd14ae619031b1c7eebd2860dad31429ccf8e4c1')"
   ]
  },
  {
   "cell_type": "code",
   "execution_count": 53,
   "metadata": {},
   "outputs": [],
   "source": [
    "# API\n",
    "_API_KEY_PARAMETER = \"f263d10c8806cb1f1c0c9663fd14ae619031b1c7eebd2860dad31429ccf8e4c1\"\n",
    "_URL_COIN_LIST = 'https://www.cryptocompare.com/api/data/coinlist?'\n",
    "_URL_PRICE = 'https://min-api.cryptocompare.com/data/pricemulti?fsyms={}&tsyms={}'\n",
    "_URL_PRICE_MULTI = 'https://min-api.cryptocompare.com/data/pricemulti?fsyms={}&tsyms={}'\n",
    "_URL_PRICE_MULTI_FULL = 'https://min-api.cryptocompare.com/data/pricemultifull?fsyms={}&tsyms={}'\n",
    "_URL_HIST_PRICE = 'https://min-api.cryptocompare.com/data/pricehistorical?fsym={}&tsyms={}&ts={}&e={}'\n",
    "_URL_HIST_PRICE_DAY = 'https://min-api.cryptocompare.com/data/v2/histoday?fsym={}&tsym={}&limit={}&e={}&toTs={}'\n",
    "_URL_HIST_PRICE_HOUR = 'https://min-api.cryptocompare.com/data/v2/histohour?fsym={}&tsym={}&limit={}&e={}&toTs={}'\n",
    "_URL_HIST_PRICE_MINUTE = 'https://min-api.cryptocompare.com/data/v2/histominute?fsym={}&tsym={}&limit={}&e={}&toTs={}'\n",
    "_URL_AVG = 'https://min-api.cryptocompare.com/data/generateAvg?fsym={}&tsym={}&e={}'\n",
    "_URL_EXCHANGES = 'https://www.cryptocompare.com/api/data/exchanges?'\n",
    "_URL_PAIRS = 'https://min-api.cryptocompare.com/data/pair/mapping/exchange?e={}'\n",
    "\n",
    "_MAX_LIMIT_HISTO_API = 2000\n",
    "\n",
    "# DEFAULTS\n",
    "CURRENCY = 'EUR'\n",
    "LIMIT = 365"
   ]
  },
  {
   "cell_type": "code",
   "execution_count": 55,
   "metadata": {},
   "outputs": [],
   "source": [
    "def _query_cryptocompare(url: str, errorCheck: bool = True, api_key: str = None) -> Optional[Dict]:\n",
    "    \"\"\"\n",
    "    Query the url and return the result or None on failure.\n",
    "    :param url: the url\n",
    "    :param errorCheck: run extra error checks (default: True)\n",
    "    :returns: respones, or nothing if errorCheck=True\n",
    "    :api_key: optional, if you want to add an API Key\n",
    "    \"\"\"\n",
    "    api_key_parameter = _set_api_key_parameter(api_key)\n",
    "    try:\n",
    "        response = requests.get(url + api_key_parameter).json()\n",
    "    except Exception as e:\n",
    "        print('Error getting coin information. %s' % str(e))\n",
    "        return None\n",
    "    if errorCheck and (response.get('Response') == 'Error'):\n",
    "        print('[ERROR] %s' % response.get('Message'))\n",
    "        return None\n",
    "    return response\n",
    "\n",
    "\n",
    "def _format_parameter(parameter: object) -> str:\n",
    "    \"\"\"\n",
    "    Format the parameter depending on its type and return\n",
    "    the string representation accepted by the API.\n",
    "    :param parameter: parameter to format\n",
    "    \"\"\"\n",
    "    if isinstance(parameter, list):\n",
    "        return ','.join(parameter)\n",
    "\n",
    "    else:\n",
    "        return str(parameter)\n",
    "\n",
    "\n",
    "def _format_timestamp(timestamp: Timestamp) -> int:\n",
    "    \"\"\"\n",
    "    Format the timestamp depending on its type and return\n",
    "    the integer representation accepted by the API.\n",
    "    :param timestamp: timestamp to format\n",
    "    \"\"\"\n",
    "    if isinstance(timestamp, datetime.datetime) or isinstance(timestamp, datetime.date):\n",
    "        return int(time.mktime(timestamp.timetuple()))\n",
    "    return int(timestamp)\n",
    "\n",
    "\n",
    "def _set_api_key_parameter(api_key: str = None) -> str:\n",
    "    if api_key is None:\n",
    "        api_key = os.getenv('CRYPTOCOMPARE_API_KEY')\n",
    "    if api_key is not None:\n",
    "        _API_KEY = \"&api_key={}\".format(api_key)\n",
    "        return _API_KEY\n",
    "    return \"\""
   ]
  },
  {
   "cell_type": "code",
   "execution_count": 56,
   "metadata": {},
   "outputs": [],
   "source": [
    "def get_exchanges() -> Optional[Dict]:\n",
    "    \"\"\"\n",
    "    Get the list of available exchanges.\n",
    "    :returns: list of available exchanges\n",
    "    \"\"\"\n",
    "    response = _query_cryptocompare(_URL_EXCHANGES)\n",
    "    if response:\n",
    "        return response['Data']\n",
    "    return None"
   ]
  },
  {
   "cell_type": "code",
   "execution_count": 57,
   "metadata": {},
   "outputs": [],
   "source": [
    "result = requests.get(url, params=payload).json()\n",
    "\n",
    "df = pd.DataFrame(result['Data'])"
   ]
  },
  {
   "cell_type": "code",
   "execution_count": 64,
   "metadata": {},
   "outputs": [
    {
     "data": {
      "text/html": [
       "<div>\n",
       "<style scoped>\n",
       "    .dataframe tbody tr th:only-of-type {\n",
       "        vertical-align: middle;\n",
       "    }\n",
       "\n",
       "    .dataframe tbody tr th {\n",
       "        vertical-align: top;\n",
       "    }\n",
       "\n",
       "    .dataframe thead th {\n",
       "        text-align: right;\n",
       "    }\n",
       "</style>\n",
       "<table border=\"1\" class=\"dataframe\">\n",
       "  <thead>\n",
       "    <tr style=\"text-align: right;\">\n",
       "      <th></th>\n",
       "    </tr>\n",
       "  </thead>\n",
       "  <tbody>\n",
       "  </tbody>\n",
       "</table>\n",
       "</div>"
      ],
      "text/plain": [
       "Empty DataFrame\n",
       "Columns: []\n",
       "Index: []"
      ]
     },
     "execution_count": 64,
     "metadata": {},
     "output_type": "execute_result"
    }
   ],
   "source": [
    "df.head(10)"
   ]
  },
  {
   "cell_type": "code",
   "execution_count": null,
   "metadata": {},
   "outputs": [],
   "source": [
    "cryptocompare.get_exchanges()"
   ]
  },
  {
   "cell_type": "code",
   "execution_count": null,
   "metadata": {},
   "outputs": [],
   "source": [
    "#CoinMarketCap API"
   ]
  },
  {
   "cell_type": "code",
   "execution_count": null,
   "metadata": {},
   "outputs": [],
   "source": [
    "pip install python-coinmarketcap"
   ]
  },
  {
   "cell_type": "code",
   "execution_count": 3,
   "metadata": {},
   "outputs": [],
   "source": [
    "from coinmarketcapapi import CoinMarketCapAPI, CoinMarketCapAPIError\n",
    "import pandas as pd\n",
    "from requests import Request, Session\n",
    "from requests.exceptions import ConnectionError, Timeout, TooManyRedirects\n",
    "import json"
   ]
  },
  {
   "cell_type": "code",
   "execution_count": 4,
   "metadata": {},
   "outputs": [],
   "source": [
    "url = 'https://pro-api.coinmarketcap.com/v2/cryptocurrency/info'\n",
    "parameters = {\n",
    "  'id':'1,10',\n",
    "  \n",
    "}\n",
    "headers = {\n",
    "  'Accepts': 'application/json',\n",
    "  'X-CMC_PRO_API_KEY': 'f0c700f2-1ed5-4089-813c-4c00d224f807',\n",
    "}\n",
    "\n",
    "session = Session()\n",
    "session.headers.update(headers)\n",
    "\n",
    "try:\n",
    "  response = session.get(url, params=parameters)\n",
    "  data = json.loads(response.text)\n",
    "  df = pd.DataFrame(data)\n",
    "  df.to_csv('MetaData.csv', index=False)\n",
    "except (ConnectionError, Timeout, TooManyRedirects) as e:\n",
    "  print(e)"
   ]
  },
  {
   "cell_type": "code",
   "execution_count": 49,
   "metadata": {},
   "outputs": [],
   "source": [
    "\n",
    "cmc = CoinMarketCapAPI('f0c700f2-1ed5-4089-813c-4c00d224f807')\n",
    "  \n",
    "r = cmc.cryptocurrency_map()\n",
    "\n",
    "map = pd.DataFrame(r.data, columns=['name','symbol'])\n",
    "map.to_csv('MetaData.csv', index=False)"
   ]
  },
  {
   "cell_type": "code",
   "execution_count": null,
   "metadata": {},
   "outputs": [],
   "source": [
    "#Dune Analytics python wrapper"
   ]
  },
  {
   "cell_type": "code",
   "execution_count": null,
   "metadata": {},
   "outputs": [],
   "source": [
    "pip install duneanalytics"
   ]
  },
  {
   "cell_type": "code",
   "execution_count": null,
   "metadata": {},
   "outputs": [],
   "source": [
    "from duneanalytics import DuneAnalytics\n",
    "\n",
    "# initialize client\n",
    "dune = DuneAnalytics('wmarshalljr', 'Aug3kQJ65hY5hB$')\n",
    "\n",
    "# try to login\n",
    "dune.login()\n",
    "\n",
    "# fetch token\n",
    "dune.fetch_auth_token()\n",
    "\n",
    "result_id = dune.query_result_id(query_id=614360)\n",
    "\n",
    "# fetch query result\n",
    "data = dune.query_result(result_id)\n",
    "\n",
    "Flashloans = pd.DataFrame(data)\n",
    "Flashloans.to_csv('Messari_Flashloans.csv', index=False)"
   ]
  }
 ],
 "metadata": {
  "interpreter": {
   "hash": "9ba8260ec7f8cf59e0ee2c3114c28566032daa446f28d5b648bce80a5d4421df"
  },
  "kernelspec": {
   "display_name": "Python 3.8.8 ('base')",
   "language": "python",
   "name": "python3"
  },
  "language_info": {
   "codemirror_mode": {
    "name": "ipython",
    "version": 3
   },
   "file_extension": ".py",
   "mimetype": "text/x-python",
   "name": "python",
   "nbconvert_exporter": "python",
   "pygments_lexer": "ipython3",
   "version": "3.8.8"
  },
  "orig_nbformat": 4
 },
 "nbformat": 4,
 "nbformat_minor": 2
}
